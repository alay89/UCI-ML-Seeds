{
 "cells": [
  {
   "cell_type": "code",
   "execution_count": 39,
   "metadata": {},
   "outputs": [
    {
     "data": {
      "text/html": [
       "<table>\n",
       "<thead><tr><th scope=col>V1</th><th scope=col>V2</th><th scope=col>V3</th><th scope=col>V4</th><th scope=col>V5</th><th scope=col>V6</th><th scope=col>V7</th><th scope=col>V8</th></tr></thead>\n",
       "<tbody>\n",
       "\t<tr><td>15.26 </td><td>14.84 </td><td>0.8710</td><td>5.763 </td><td>3.312 </td><td>2.221 </td><td>5.220 </td><td>1     </td></tr>\n",
       "\t<tr><td>14.88 </td><td>14.57 </td><td>0.8811</td><td>5.554 </td><td>3.333 </td><td>1.018 </td><td>4.956 </td><td>1     </td></tr>\n",
       "\t<tr><td>14.29 </td><td>14.09 </td><td>0.9050</td><td>5.291 </td><td>3.337 </td><td>2.699 </td><td>4.825 </td><td>1     </td></tr>\n",
       "\t<tr><td>13.84 </td><td>13.94 </td><td>0.8955</td><td>5.324 </td><td>3.379 </td><td>2.259 </td><td>4.805 </td><td>1     </td></tr>\n",
       "\t<tr><td>16.14 </td><td>14.99 </td><td>0.9034</td><td>5.658 </td><td>3.562 </td><td>1.355 </td><td>5.175 </td><td>1     </td></tr>\n",
       "\t<tr><td>14.38 </td><td>14.21 </td><td>0.8951</td><td>5.386 </td><td>3.312 </td><td>2.462 </td><td>4.956 </td><td>1     </td></tr>\n",
       "</tbody>\n",
       "</table>\n"
      ],
      "text/latex": [
       "\\begin{tabular}{r|llllllll}\n",
       " V1 & V2 & V3 & V4 & V5 & V6 & V7 & V8\\\\\n",
       "\\hline\n",
       "\t 15.26  & 14.84  & 0.8710 & 5.763  & 3.312  & 2.221  & 5.220  & 1     \\\\\n",
       "\t 14.88  & 14.57  & 0.8811 & 5.554  & 3.333  & 1.018  & 4.956  & 1     \\\\\n",
       "\t 14.29  & 14.09  & 0.9050 & 5.291  & 3.337  & 2.699  & 4.825  & 1     \\\\\n",
       "\t 13.84  & 13.94  & 0.8955 & 5.324  & 3.379  & 2.259  & 4.805  & 1     \\\\\n",
       "\t 16.14  & 14.99  & 0.9034 & 5.658  & 3.562  & 1.355  & 5.175  & 1     \\\\\n",
       "\t 14.38  & 14.21  & 0.8951 & 5.386  & 3.312  & 2.462  & 4.956  & 1     \\\\\n",
       "\\end{tabular}\n"
      ],
      "text/markdown": [
       "\n",
       "V1 | V2 | V3 | V4 | V5 | V6 | V7 | V8 | \n",
       "|---|---|---|---|---|---|\n",
       "| 15.26  | 14.84  | 0.8710 | 5.763  | 3.312  | 2.221  | 5.220  | 1      | \n",
       "| 14.88  | 14.57  | 0.8811 | 5.554  | 3.333  | 1.018  | 4.956  | 1      | \n",
       "| 14.29  | 14.09  | 0.9050 | 5.291  | 3.337  | 2.699  | 4.825  | 1      | \n",
       "| 13.84  | 13.94  | 0.8955 | 5.324  | 3.379  | 2.259  | 4.805  | 1      | \n",
       "| 16.14  | 14.99  | 0.9034 | 5.658  | 3.562  | 1.355  | 5.175  | 1      | \n",
       "| 14.38  | 14.21  | 0.8951 | 5.386  | 3.312  | 2.462  | 4.956  | 1      | \n",
       "\n",
       "\n"
      ],
      "text/plain": [
       "  V1    V2    V3     V4    V5    V6    V7    V8\n",
       "1 15.26 14.84 0.8710 5.763 3.312 2.221 5.220 1 \n",
       "2 14.88 14.57 0.8811 5.554 3.333 1.018 4.956 1 \n",
       "3 14.29 14.09 0.9050 5.291 3.337 2.699 4.825 1 \n",
       "4 13.84 13.94 0.8955 5.324 3.379 2.259 4.805 1 \n",
       "5 16.14 14.99 0.9034 5.658 3.562 1.355 5.175 1 \n",
       "6 14.38 14.21 0.8951 5.386 3.312 2.462 4.956 1 "
      ]
     },
     "metadata": {},
     "output_type": "display_data"
    }
   ],
   "source": [
    "df = read.delim('https://archive.ics.uci.edu/ml/machine-learning-databases/00236/seeds_dataset.txt', header=FALSE, sep = \"\\t\") \n",
    "head(df)"
   ]
  },
  {
   "cell_type": "code",
   "execution_count": 37,
   "metadata": {},
   "outputs": [
    {
     "name": "stderr",
     "output_type": "stream",
     "text": [
      "Updating HTML index of packages in '.Library'\n",
      "Making 'packages.html' ... done\n"
     ]
    }
   ],
   "source": [
    "install.packages('bestglm')\n",
    "library(bestglm)\n",
    "\n"
   ]
  },
  {
   "cell_type": "code",
   "execution_count": 40,
   "metadata": {},
   "outputs": [
    {
     "ename": "ERROR",
     "evalue": "Error: is.data.frame(Xy) is not TRUE\n",
     "output_type": "error",
     "traceback": [
      "Error: is.data.frame(Xy) is not TRUE\nTraceback:\n",
      "1. bestglm(\"V8 ~ V1 + V2 + V3+ V4+V5+V6+V7\", data = df, IC = \"AIC\")",
      "2. stopifnot(is.data.frame(Xy), ncol(Xy) > 1, length(names(Xy)) == \n .     ncol(Xy), length(IC) > 0)",
      "3. stop(msg, call. = FALSE, domain = NA)"
     ]
    }
   ],
   "source": [
    "R = bestglm(\"V8 ~ V1 + V2 + V3+ V4+V5+V6+V7\", data=df, IC = \"AIC\")"
   ]
  },
  {
   "cell_type": "code",
   "execution_count": 41,
   "metadata": {},
   "outputs": [
    {
     "data": {
      "text/plain": [
       "\n",
       "Call:\n",
       "glm(formula = \"V8 ~ V1 + V2 + V3+ V4+V5+V6+V7\", data = df)\n",
       "\n",
       "Deviance Residuals: \n",
       "     Min        1Q    Median        3Q       Max  \n",
       "-1.31887  -0.24382  -0.01955   0.24295   1.21277  \n",
       "\n",
       "Coefficients:\n",
       "             Estimate Std. Error t value Pr(>|t|)    \n",
       "(Intercept)  55.64792    7.54634   7.374 4.90e-12 ***\n",
       "V1            1.56488    0.26256   5.960 1.20e-08 ***\n",
       "V2           -3.41870    0.54156  -6.313 1.87e-09 ***\n",
       "V3          -31.97971    5.33149  -5.998 9.81e-09 ***\n",
       "V4           -2.14741    0.46110  -4.657 5.99e-06 ***\n",
       "V5            0.24688    0.78939   0.313    0.755    \n",
       "V6            0.10838    0.02327   4.658 5.97e-06 ***\n",
       "V7            2.15089    0.20559  10.462  < 2e-16 ***\n",
       "---\n",
       "Signif. codes:  0 ‘***’ 0.001 ‘**’ 0.01 ‘*’ 0.05 ‘.’ 0.1 ‘ ’ 1\n",
       "\n",
       "(Dispersion parameter for gaussian family taken to be 0.1660733)\n",
       "\n",
       "    Null deviance: 130.99  on 198  degrees of freedom\n",
       "Residual deviance:  31.72  on 191  degrees of freedom\n",
       "  (22 observations deleted due to missingness)\n",
       "AIC: 217.3\n",
       "\n",
       "Number of Fisher Scoring iterations: 2\n"
      ]
     },
     "metadata": {},
     "output_type": "display_data"
    }
   ],
   "source": [
    "seeds.glm = glm(\"V8 ~ V1 + V2 + V3+ V4+V5+V6+V7\", data = df)\n",
    "summary(seeds.glm)"
   ]
  },
  {
   "cell_type": "code",
   "execution_count": 46,
   "metadata": {},
   "outputs": [],
   "source": [
    "R2 = glm(\"V8 ~ V1 + V2 + V3+ V4+V6+V7\", data=df)"
   ]
  },
  {
   "cell_type": "code",
   "execution_count": 47,
   "metadata": {},
   "outputs": [
    {
     "data": {
      "text/plain": [
       "\n",
       "Call:\n",
       "glm(formula = \"V8 ~ V1 + V2 + V3+ V4+V6+V7\", data = df)\n",
       "\n",
       "Deviance Residuals: \n",
       "     Min        1Q    Median        3Q       Max  \n",
       "-1.32823  -0.23631  -0.01992   0.24512   1.21432  \n",
       "\n",
       "Coefficients:\n",
       "             Estimate Std. Error t value Pr(>|t|)    \n",
       "(Intercept)  55.27593    7.43448   7.435 3.38e-12 ***\n",
       "V1            1.59027    0.24911   6.384 1.27e-09 ***\n",
       "V2           -3.40065    0.53721  -6.330 1.69e-09 ***\n",
       "V3          -31.07905    4.47622  -6.943 5.76e-11 ***\n",
       "V4           -2.17986    0.44823  -4.863 2.40e-06 ***\n",
       "V6            0.10996    0.02266   4.853 2.51e-06 ***\n",
       "V7            2.13776    0.20079  10.647  < 2e-16 ***\n",
       "---\n",
       "Signif. codes:  0 ‘***’ 0.001 ‘**’ 0.01 ‘*’ 0.05 ‘.’ 0.1 ‘ ’ 1\n",
       "\n",
       "(Dispersion parameter for gaussian family taken to be 0.1652929)\n",
       "\n",
       "    Null deviance: 130.995  on 198  degrees of freedom\n",
       "Residual deviance:  31.736  on 192  degrees of freedom\n",
       "  (22 observations deleted due to missingness)\n",
       "AIC: 215.4\n",
       "\n",
       "Number of Fisher Scoring iterations: 2\n"
      ]
     },
     "metadata": {},
     "output_type": "display_data"
    }
   ],
   "source": [
    "summary(R2)"
   ]
  },
  {
   "cell_type": "code",
   "execution_count": 9,
   "metadata": {},
   "outputs": [
    {
     "data": {
      "text/plain": [
       "'log Lik.' 246.9422 (df=9)"
      ]
     },
     "metadata": {},
     "output_type": "display_data"
    }
   ],
   "source": [
    "n = length(seeds.glm$fitted.values)\n",
    "p = length(coefficients(seeds.glm))\n",
    "\n",
    "likelihood = 2 * logLik(seeds.glm)\n",
    "complexity = log(n)*(p+1)\n",
    "\n",
    "bic = complexity - likelihood\n",
    "bic"
   ]
  },
  {
   "cell_type": "code",
   "execution_count": 10,
   "metadata": {},
   "outputs": [],
   "source": [
    "BIC_of_model = function (model) {\n",
    "    n = length(model$fitted.values)\n",
    "    p = length(coefficients(model))\n",
    "\n",
    "    likelihood = 2 * logLik(model)\n",
    "    complexity = log(n)*(p+1)\n",
    "\n",
    "    bic = complexity - likelihood\n",
    "    return(bic)\n",
    "}"
   ]
  },
  {
   "cell_type": "code",
   "execution_count": 32,
   "metadata": {},
   "outputs": [
    {
     "name": "stdout",
     "output_type": "stream",
     "text": [
      "Start:  AIC=-20.91\n",
      "V8 ~ 1\n",
      "\n"
     ]
    },
    {
     "name": "stderr",
     "output_type": "stream",
     "text": [
      "Warning message in add1.lm(fit, scope$add, scale = scale, trace = trace, k = k, :\n",
      "“using the 199/206 rows from a combined fit”"
     ]
    },
    {
     "name": "stdout",
     "output_type": "stream",
     "text": [
      "       Df Sum of Sq     RSS      AIC\n",
      "+ V6    1    43.153  87.842 -158.736\n",
      "+ V3    1    38.094  92.901 -147.592\n",
      "+ V5    1    23.324 107.671 -118.230\n",
      "+ V1    1    15.202 115.793 -103.759\n",
      "+ V2    1    13.601 117.394 -101.026\n",
      "+ V4    1     8.149 122.846  -91.993\n",
      "<none>              130.995  -81.211\n",
      "+ V7    1     0.165 130.830  -79.462\n",
      "\n",
      "Step:  AIC=-59.97\n",
      "V8 ~ V6\n",
      "\n"
     ]
    },
    {
     "name": "stderr",
     "output_type": "stream",
     "text": [
      "Warning message in add1.lm(fit, scope$add, scale = scale, trace = trace, k = k, :\n",
      "“using the 199/206 rows from a combined fit”"
     ]
    },
    {
     "name": "stdout",
     "output_type": "stream",
     "text": [
      "       Df Sum of Sq     RSS      AIC\n",
      "+ V3    1    18.020  69.821 -202.426\n",
      "+ V5    1    10.714  77.128 -182.621\n",
      "+ V1    1     6.240  81.601 -171.400\n",
      "+ V2    1     5.544  82.297 -169.710\n",
      "+ V4    1     3.117  84.725 -163.925\n",
      "+ V7    1     0.184  87.658 -157.152\n",
      "<none>              151.012  -59.967\n",
      "- V6    1    33.305 184.317  -20.912\n"
     ]
    },
    {
     "ename": "ERROR",
     "evalue": "Error in step(base.mod, scope = list(lower = base.mod, upper = all.mod), : number of rows in use has changed: remove missing values?\n",
     "output_type": "error",
     "traceback": [
      "Error in step(base.mod, scope = list(lower = base.mod, upper = all.mod), : number of rows in use has changed: remove missing values?\nTraceback:\n",
      "1. step(base.mod, scope = list(lower = base.mod, upper = all.mod), \n .     direction = \"both\")",
      "2. stop(\"number of rows in use has changed: remove missing values?\")"
     ]
    }
   ],
   "source": [
    "base.mod <- lm(V8 ~ 1 , data= df)  # base intercept only model\n",
    "all.mod <- lm(V8 ~ . , data= df) # full model with all predictors\n",
    "stepMod <- step(base.mod, scope = list(lower = base.mod, upper = all.mod), direction = \"both\") # perform step-wise algorithm\n",
    "shortlistedVars <- names(unlist(stepMod[[1]])) # get the shortlisted variable.\n",
    "shortlistedVars <- shortlistedVars[!shortlistedVars %in% \"(Intercept)\"]  # remove intercept \n",
    "print(shortlistedVars)"
   ]
  },
  {
   "cell_type": "code",
   "execution_count": 48,
   "metadata": {},
   "outputs": [
    {
     "ename": "ERROR",
     "evalue": "Error in stepAIC(all.mod, trace = FALSE): could not find function \"stepAIC\"\n",
     "output_type": "error",
     "traceback": [
      "Error in stepAIC(all.mod, trace = FALSE): could not find function \"stepAIC\"\nTraceback:\n"
     ]
    }
   ],
   "source": [
    "all.mod <- glm(V8 ~ . , data= df)\n",
    "birthwt.step <- stepAIC(all.mod, trace = FALSE)"
   ]
  },
  {
   "cell_type": "code",
   "execution_count": 28,
   "metadata": {},
   "outputs": [],
   "source": [
    "model_1  = \"V8 ~ V1 + V2 + V3 + V4 + V5 + V6 + V7\" \n",
    "model_2a = \"V8 ~ V1 + V2 + V3 + V4 + V5 + V6\"      \n",
    "model_2b = \"V8 ~ V1 + V2 + V3 + V4 + V5 +      V7\"   \n",
    "model_2c = \"V8 ~ V1 + V2 + V3 + V4 +     V6 + V7\" \n",
    "model_2d = \"V8 ~ V1 + V2 + V3 +       V5 + V6 + V7\"              \n",
    "model_2e = \"V8 ~ V1 + V2 + V6\""
   ]
  },
  {
   "cell_type": "code",
   "execution_count": 29,
   "metadata": {},
   "outputs": [],
   "source": [
    "seeds.glm.1 = glm(model_1, data=df)\n",
    "seeds.glm.2a = glm(model_2a, data=df)\n",
    "seeds.glm.2b = glm(model_2b, data=df)\n",
    "seeds.glm.2c = glm(model_2c, data=df)\n",
    "seeds.glm.2d = glm(model_2d, data=df)\n",
    "seeds.glm.2e = glm(model_2e, data=df)"
   ]
  },
  {
   "cell_type": "code",
   "execution_count": 30,
   "metadata": {},
   "outputs": [
    {
     "name": "stdout",
     "output_type": "stream",
     "text": [
      "[1] \"model_1\"          \"246.942152387597\"\n",
      "[1] \"model_2a\"         \"458.937135824306\"\n",
      "[1] \"model_2b\"        \"263.05926376933\"\n",
      "[1] \"model_2c\"         \"241.750726273439\"\n",
      "[1] \"model_2d\"         \"263.052551365895\"\n",
      "[1] \"model_2e\"         \"527.289455257095\"\n"
     ]
    }
   ],
   "source": [
    "print(c('model_1', BIC_of_model(seeds.glm.1)))\n",
    "print(c('model_2a', BIC_of_model(seeds.glm.2a )))\n",
    "print(c('model_2b', BIC_of_model(seeds.glm.2b )))\n",
    "print(c('model_2c', BIC_of_model(seeds.glm.2c )))\n",
    "print(c('model_2d', BIC_of_model(seeds.glm.2d )))\n",
    "print(c('model_2e', BIC_of_model(seeds.glm.2e )))"
   ]
  }
 ],
 "metadata": {
  "kernelspec": {
   "display_name": "R",
   "language": "R",
   "name": "ir"
  },
  "language_info": {
   "codemirror_mode": "r",
   "file_extension": ".r",
   "mimetype": "text/x-r-source",
   "name": "R",
   "pygments_lexer": "r",
   "version": "3.4.1"
  }
 },
 "nbformat": 4,
 "nbformat_minor": 2
}
